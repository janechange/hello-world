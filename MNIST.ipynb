{
  "nbformat": 4,
  "nbformat_minor": 0,
  "metadata": {
    "colab": {
      "name": "MNIST.ipynb",
      "version": "0.3.2",
      "provenance": [],
      "collapsed_sections": [],
      "include_colab_link": true
    },
    "kernelspec": {
      "name": "python3",
      "display_name": "Python 3"
    }
  },
  "cells": [
    {
      "cell_type": "markdown",
      "metadata": {
        "id": "view-in-github",
        "colab_type": "text"
      },
      "source": [
        "<a href=\"https://colab.research.google.com/github/janechange/hello-world/blob/master/MNIST.ipynb\" target=\"_parent\"><img src=\"https://colab.research.google.com/assets/colab-badge.svg\" alt=\"Open In Colab\"/></a>"
      ]
    },
    {
      "metadata": {
        "id": "AX2lr1jnMiRA",
        "colab_type": "code",
        "colab": {}
      },
      "cell_type": "code",
      "source": [
        "import numpy as np\n",
        "from keras.datasets import mnist\n",
        "\n",
        "from keras.utils import np_utils\n",
        "from keras.models import Sequential\n",
        "from keras.layers import Dense, Activation"
      ],
      "execution_count": 0,
      "outputs": []
    },
    {
      "metadata": {
        "id": "NRi74fl_MjYo",
        "colab_type": "code",
        "colab": {}
      },
      "cell_type": "code",
      "source": [
        "# When you run it first time, you will download the packages.\n",
        "(X_train, y_train), (X_test, y_test) = mnist.load_data()\n",
        "# The training sets is included \"training datasets and validation datasets\"\n",
        "# The test datasets is the final testing datasets"
      ],
      "execution_count": 0,
      "outputs": []
    },
    {
      "metadata": {
        "id": "TQGgzNdtNPuX",
        "colab_type": "code",
        "outputId": "494239a0-44b3-4257-ff6e-c1ac34929390",
        "colab": {
          "base_uri": "https://localhost:8080/",
          "height": 1428
        }
      },
      "cell_type": "code",
      "source": [
        "# 灰階: 0(light)~255(dark)\n",
        "X_train[:1]"
      ],
      "execution_count": 38,
      "outputs": [
        {
          "output_type": "execute_result",
          "data": {
            "text/plain": [
              "array([[[  0,   0,   0,   0,   0,   0,   0,   0,   0,   0,   0,   0,\n",
              "           0,   0,   0,   0,   0,   0,   0,   0,   0,   0,   0,   0,\n",
              "           0,   0,   0,   0],\n",
              "        [  0,   0,   0,   0,   0,   0,   0,   0,   0,   0,   0,   0,\n",
              "           0,   0,   0,   0,   0,   0,   0,   0,   0,   0,   0,   0,\n",
              "           0,   0,   0,   0],\n",
              "        [  0,   0,   0,   0,   0,   0,   0,   0,   0,   0,   0,   0,\n",
              "           0,   0,   0,   0,   0,   0,   0,   0,   0,   0,   0,   0,\n",
              "           0,   0,   0,   0],\n",
              "        [  0,   0,   0,   0,   0,   0,   0,   0,   0,   0,   0,   0,\n",
              "           0,   0,   0,   0,   0,   0,   0,   0,   0,   0,   0,   0,\n",
              "           0,   0,   0,   0],\n",
              "        [  0,   0,   0,   0,   0,   0,   0,   0,   0,   0,   0,   0,\n",
              "           0,   0,   0,   0,   0,   0,   0,   0,   0,   0,   0,   0,\n",
              "           0,   0,   0,   0],\n",
              "        [  0,   0,   0,   0,   0,   0,   0,   0,   0,   0,   0,   0,\n",
              "           3,  18,  18,  18, 126, 136, 175,  26, 166, 255, 247, 127,\n",
              "           0,   0,   0,   0],\n",
              "        [  0,   0,   0,   0,   0,   0,   0,   0,  30,  36,  94, 154,\n",
              "         170, 253, 253, 253, 253, 253, 225, 172, 253, 242, 195,  64,\n",
              "           0,   0,   0,   0],\n",
              "        [  0,   0,   0,   0,   0,   0,   0,  49, 238, 253, 253, 253,\n",
              "         253, 253, 253, 253, 253, 251,  93,  82,  82,  56,  39,   0,\n",
              "           0,   0,   0,   0],\n",
              "        [  0,   0,   0,   0,   0,   0,   0,  18, 219, 253, 253, 253,\n",
              "         253, 253, 198, 182, 247, 241,   0,   0,   0,   0,   0,   0,\n",
              "           0,   0,   0,   0],\n",
              "        [  0,   0,   0,   0,   0,   0,   0,   0,  80, 156, 107, 253,\n",
              "         253, 205,  11,   0,  43, 154,   0,   0,   0,   0,   0,   0,\n",
              "           0,   0,   0,   0],\n",
              "        [  0,   0,   0,   0,   0,   0,   0,   0,   0,  14,   1, 154,\n",
              "         253,  90,   0,   0,   0,   0,   0,   0,   0,   0,   0,   0,\n",
              "           0,   0,   0,   0],\n",
              "        [  0,   0,   0,   0,   0,   0,   0,   0,   0,   0,   0, 139,\n",
              "         253, 190,   2,   0,   0,   0,   0,   0,   0,   0,   0,   0,\n",
              "           0,   0,   0,   0],\n",
              "        [  0,   0,   0,   0,   0,   0,   0,   0,   0,   0,   0,  11,\n",
              "         190, 253,  70,   0,   0,   0,   0,   0,   0,   0,   0,   0,\n",
              "           0,   0,   0,   0],\n",
              "        [  0,   0,   0,   0,   0,   0,   0,   0,   0,   0,   0,   0,\n",
              "          35, 241, 225, 160, 108,   1,   0,   0,   0,   0,   0,   0,\n",
              "           0,   0,   0,   0],\n",
              "        [  0,   0,   0,   0,   0,   0,   0,   0,   0,   0,   0,   0,\n",
              "           0,  81, 240, 253, 253, 119,  25,   0,   0,   0,   0,   0,\n",
              "           0,   0,   0,   0],\n",
              "        [  0,   0,   0,   0,   0,   0,   0,   0,   0,   0,   0,   0,\n",
              "           0,   0,  45, 186, 253, 253, 150,  27,   0,   0,   0,   0,\n",
              "           0,   0,   0,   0],\n",
              "        [  0,   0,   0,   0,   0,   0,   0,   0,   0,   0,   0,   0,\n",
              "           0,   0,   0,  16,  93, 252, 253, 187,   0,   0,   0,   0,\n",
              "           0,   0,   0,   0],\n",
              "        [  0,   0,   0,   0,   0,   0,   0,   0,   0,   0,   0,   0,\n",
              "           0,   0,   0,   0,   0, 249, 253, 249,  64,   0,   0,   0,\n",
              "           0,   0,   0,   0],\n",
              "        [  0,   0,   0,   0,   0,   0,   0,   0,   0,   0,   0,   0,\n",
              "           0,   0,  46, 130, 183, 253, 253, 207,   2,   0,   0,   0,\n",
              "           0,   0,   0,   0],\n",
              "        [  0,   0,   0,   0,   0,   0,   0,   0,   0,   0,   0,   0,\n",
              "          39, 148, 229, 253, 253, 253, 250, 182,   0,   0,   0,   0,\n",
              "           0,   0,   0,   0],\n",
              "        [  0,   0,   0,   0,   0,   0,   0,   0,   0,   0,  24, 114,\n",
              "         221, 253, 253, 253, 253, 201,  78,   0,   0,   0,   0,   0,\n",
              "           0,   0,   0,   0],\n",
              "        [  0,   0,   0,   0,   0,   0,   0,   0,  23,  66, 213, 253,\n",
              "         253, 253, 253, 198,  81,   2,   0,   0,   0,   0,   0,   0,\n",
              "           0,   0,   0,   0],\n",
              "        [  0,   0,   0,   0,   0,   0,  18, 171, 219, 253, 253, 253,\n",
              "         253, 195,  80,   9,   0,   0,   0,   0,   0,   0,   0,   0,\n",
              "           0,   0,   0,   0],\n",
              "        [  0,   0,   0,   0,  55, 172, 226, 253, 253, 253, 253, 244,\n",
              "         133,  11,   0,   0,   0,   0,   0,   0,   0,   0,   0,   0,\n",
              "           0,   0,   0,   0],\n",
              "        [  0,   0,   0,   0, 136, 253, 253, 253, 212, 135, 132,  16,\n",
              "           0,   0,   0,   0,   0,   0,   0,   0,   0,   0,   0,   0,\n",
              "           0,   0,   0,   0],\n",
              "        [  0,   0,   0,   0,   0,   0,   0,   0,   0,   0,   0,   0,\n",
              "           0,   0,   0,   0,   0,   0,   0,   0,   0,   0,   0,   0,\n",
              "           0,   0,   0,   0],\n",
              "        [  0,   0,   0,   0,   0,   0,   0,   0,   0,   0,   0,   0,\n",
              "           0,   0,   0,   0,   0,   0,   0,   0,   0,   0,   0,   0,\n",
              "           0,   0,   0,   0],\n",
              "        [  0,   0,   0,   0,   0,   0,   0,   0,   0,   0,   0,   0,\n",
              "           0,   0,   0,   0,   0,   0,   0,   0,   0,   0,   0,   0,\n",
              "           0,   0,   0,   0]]], dtype=uint8)"
            ]
          },
          "metadata": {
            "tags": []
          },
          "execution_count": 38
        }
      ]
    },
    {
      "metadata": {
        "id": "TFfkQ1HjNTML",
        "colab_type": "code",
        "outputId": "9d1e8ba3-b761-4dce-bec0-3715312a72d0",
        "colab": {
          "base_uri": "https://localhost:8080/",
          "height": 34
        }
      },
      "cell_type": "code",
      "source": [
        "y_train[:1]"
      ],
      "execution_count": 39,
      "outputs": [
        {
          "output_type": "execute_result",
          "data": {
            "text/plain": [
              "array([5], dtype=uint8)"
            ]
          },
          "metadata": {
            "tags": []
          },
          "execution_count": 39
        }
      ]
    },
    {
      "metadata": {
        "id": "uhGRgi_2NWmy",
        "colab_type": "code",
        "outputId": "f21a940e-9662-4912-d6be-fd44d0bc420d",
        "colab": {
          "base_uri": "https://localhost:8080/",
          "height": 34
        }
      },
      "cell_type": "code",
      "source": [
        "X_train[:1, :].shape"
      ],
      "execution_count": 40,
      "outputs": [
        {
          "output_type": "execute_result",
          "data": {
            "text/plain": [
              "(1, 28, 28)"
            ]
          },
          "metadata": {
            "tags": []
          },
          "execution_count": 40
        }
      ]
    },
    {
      "metadata": {
        "id": "Nh37iUBgNzN1",
        "colab_type": "code",
        "outputId": "a941bce4-247f-4cef-83a1-06691693f9ee",
        "colab": {
          "base_uri": "https://localhost:8080/",
          "height": 275
        }
      },
      "cell_type": "code",
      "source": [
        "import matplotlib.pyplot as plt\n",
        "train_img = np.reshape(X_train[:1, :], (28, 28))\n",
        "plt.matshow(train_img, cmap = plt.get_cmap('binary'))\n",
        "plt.show()\n",
        "\n",
        "# Binary: black and white"
      ],
      "execution_count": 41,
      "outputs": [
        {
          "output_type": "display_data",
          "data": {
            "image/png": "[encoded data removed]",
            "text/plain": [
              "<Figure size 288x288 with 1 Axes>"
            ]
          },
          "metadata": {
            "tags": []
          }
        }
      ]
    },
    {
      "metadata": {
        "id": "3vGVjKiwOKA1",
        "colab_type": "code",
        "outputId": "35819f1d-6283-4abf-c6c9-255a6825b6b4",
        "colab": {
          "base_uri": "https://localhost:8080/",
          "height": 34
        }
      },
      "cell_type": "code",
      "source": [
        "X_train.shape"
      ],
      "execution_count": 42,
      "outputs": [
        {
          "output_type": "execute_result",
          "data": {
            "text/plain": [
              "(60000, 28, 28)"
            ]
          },
          "metadata": {
            "tags": []
          },
          "execution_count": 42
        }
      ]
    },
    {
      "metadata": {
        "id": "N-gIZXIwQEHH",
        "colab_type": "code",
        "colab": {}
      },
      "cell_type": "code",
      "source": [
        "\n",
        "\n",
        "# Preprocessing\n",
        "# -1: two dimension 28*28 = one dimension 784\n",
        "# x = x/255: 0 < x < 1 \n",
        "\n",
        "X_train = X_train.reshape(X_train.shape[0], -1) / 255\n",
        "X_test  = X_test.reshape(X_test.shape[0],  -1) / 255 \n",
        "\n",
        "\n",
        "# One-hot encoding: 0 ~ 9 \n",
        "# Differentiate the number: if yes, print 1; if not, print 0\n",
        "\n",
        "y_train = np_utils.to_categorical(y_train, num_classes = 10)\n",
        "y_test  = np_utils.to_categorical(y_test , num_classes = 10)"
      ],
      "execution_count": 0,
      "outputs": []
    },
    {
      "metadata": {
        "id": "A2XLkuErQS5W",
        "colab_type": "code",
        "colab": {
          "base_uri": "https://localhost:8080/",
          "height": 34
        },
        "outputId": "939df005-9a3b-4706-de43-4daf5d3bf2c8"
      },
      "cell_type": "code",
      "source": [
        "y_train.shape"
      ],
      "execution_count": 44,
      "outputs": [
        {
          "output_type": "execute_result",
          "data": {
            "text/plain": [
              "(60000, 10)"
            ]
          },
          "metadata": {
            "tags": []
          },
          "execution_count": 44
        }
      ]
    },
    {
      "metadata": {
        "id": "Mgkr3EJITEJ-",
        "colab_type": "code",
        "colab": {
          "base_uri": "https://localhost:8080/",
          "height": 2654
        },
        "outputId": "dc848ad9-0c2d-486b-812d-f90943a19c98"
      },
      "cell_type": "code",
      "source": [
        "X_train[:1]"
      ],
      "execution_count": 45,
      "outputs": [
        {
          "output_type": "execute_result",
          "data": {
            "text/plain": [
              "array([[0.        , 0.        , 0.        , 0.        , 0.        ,\n",
              "        0.        , 0.        , 0.        , 0.        , 0.        ,\n",
              "        0.        , 0.        , 0.        , 0.        , 0.        ,\n",
              "        0.        , 0.        , 0.        , 0.        , 0.        ,\n",
              "        0.        , 0.        , 0.        , 0.        , 0.        ,\n",
              "        0.        , 0.        , 0.        , 0.        , 0.        ,\n",
              "        0.        , 0.        , 0.        , 0.        , 0.        ,\n",
              "        0.        , 0.        , 0.        , 0.        , 0.        ,\n",
              "        0.        , 0.        , 0.        , 0.        , 0.        ,\n",
              "        0.        , 0.        , 0.        , 0.        , 0.        ,\n",
              "        0.        , 0.        , 0.        , 0.        , 0.        ,\n",
              "        0.        , 0.        , 0.        , 0.        , 0.        ,\n",
              "        0.        , 0.        , 0.        , 0.        , 0.        ,\n",
              "        0.        , 0.        , 0.        , 0.        , 0.        ,\n",
              "        0.        , 0.        , 0.        , 0.        , 0.        ,\n",
              "        0.        , 0.        , 0.        , 0.        , 0.        ,\n",
              "        0.        , 0.        , 0.        , 0.        , 0.        ,\n",
              "        0.        , 0.        , 0.        , 0.        , 0.        ,\n",
              "        0.        , 0.        , 0.        , 0.        , 0.        ,\n",
              "        0.        , 0.        , 0.        , 0.        , 0.        ,\n",
              "        0.        , 0.        , 0.        , 0.        , 0.        ,\n",
              "        0.        , 0.        , 0.        , 0.        , 0.        ,\n",
              "        0.        , 0.        , 0.        , 0.        , 0.        ,\n",
              "        0.        , 0.        , 0.        , 0.        , 0.        ,\n",
              "        0.        , 0.        , 0.        , 0.        , 0.        ,\n",
              "        0.        , 0.        , 0.        , 0.        , 0.        ,\n",
              "        0.        , 0.        , 0.        , 0.        , 0.        ,\n",
              "        0.        , 0.        , 0.        , 0.        , 0.        ,\n",
              "        0.        , 0.        , 0.        , 0.        , 0.        ,\n",
              "        0.        , 0.        , 0.        , 0.        , 0.        ,\n",
              "        0.        , 0.        , 0.01176471, 0.07058824, 0.07058824,\n",
              "        0.07058824, 0.49411765, 0.53333333, 0.68627451, 0.10196078,\n",
              "        0.65098039, 1.        , 0.96862745, 0.49803922, 0.        ,\n",
              "        0.        , 0.        , 0.        , 0.        , 0.        ,\n",
              "        0.        , 0.        , 0.        , 0.        , 0.        ,\n",
              "        0.        , 0.11764706, 0.14117647, 0.36862745, 0.60392157,\n",
              "        0.66666667, 0.99215686, 0.99215686, 0.99215686, 0.99215686,\n",
              "        0.99215686, 0.88235294, 0.6745098 , 0.99215686, 0.94901961,\n",
              "        0.76470588, 0.25098039, 0.        , 0.        , 0.        ,\n",
              "        0.        , 0.        , 0.        , 0.        , 0.        ,\n",
              "        0.        , 0.        , 0.        , 0.19215686, 0.93333333,\n",
              "        0.99215686, 0.99215686, 0.99215686, 0.99215686, 0.99215686,\n",
              "        0.99215686, 0.99215686, 0.99215686, 0.98431373, 0.36470588,\n",
              "        0.32156863, 0.32156863, 0.21960784, 0.15294118, 0.        ,\n",
              "        0.        , 0.        , 0.        , 0.        , 0.        ,\n",
              "        0.        , 0.        , 0.        , 0.        , 0.        ,\n",
              "        0.        , 0.07058824, 0.85882353, 0.99215686, 0.99215686,\n",
              "        0.99215686, 0.99215686, 0.99215686, 0.77647059, 0.71372549,\n",
              "        0.96862745, 0.94509804, 0.        , 0.        , 0.        ,\n",
              "        0.        , 0.        , 0.        , 0.        , 0.        ,\n",
              "        0.        , 0.        , 0.        , 0.        , 0.        ,\n",
              "        0.        , 0.        , 0.        , 0.        , 0.        ,\n",
              "        0.31372549, 0.61176471, 0.41960784, 0.99215686, 0.99215686,\n",
              "        0.80392157, 0.04313725, 0.        , 0.16862745, 0.60392157,\n",
              "        0.        , 0.        , 0.        , 0.        , 0.        ,\n",
              "        0.        , 0.        , 0.        , 0.        , 0.        ,\n",
              "        0.        , 0.        , 0.        , 0.        , 0.        ,\n",
              "        0.        , 0.        , 0.        , 0.        , 0.05490196,\n",
              "        0.00392157, 0.60392157, 0.99215686, 0.35294118, 0.        ,\n",
              "        0.        , 0.        , 0.        , 0.        , 0.        ,\n",
              "        0.        , 0.        , 0.        , 0.        , 0.        ,\n",
              "        0.        , 0.        , 0.        , 0.        , 0.        ,\n",
              "        0.        , 0.        , 0.        , 0.        , 0.        ,\n",
              "        0.        , 0.        , 0.        , 0.        , 0.54509804,\n",
              "        0.99215686, 0.74509804, 0.00784314, 0.        , 0.        ,\n",
              "        0.        , 0.        , 0.        , 0.        , 0.        ,\n",
              "        0.        , 0.        , 0.        , 0.        , 0.        ,\n",
              "        0.        , 0.        , 0.        , 0.        , 0.        ,\n",
              "        0.        , 0.        , 0.        , 0.        , 0.        ,\n",
              "        0.        , 0.        , 0.04313725, 0.74509804, 0.99215686,\n",
              "        0.2745098 , 0.        , 0.        , 0.        , 0.        ,\n",
              "        0.        , 0.        , 0.        , 0.        , 0.        ,\n",
              "        0.        , 0.        , 0.        , 0.        , 0.        ,\n",
              "        0.        , 0.        , 0.        , 0.        , 0.        ,\n",
              "        0.        , 0.        , 0.        , 0.        , 0.        ,\n",
              "        0.        , 0.1372549 , 0.94509804, 0.88235294, 0.62745098,\n",
              "        0.42352941, 0.00392157, 0.        , 0.        , 0.        ,\n",
              "        0.        , 0.        , 0.        , 0.        , 0.        ,\n",
              "        0.        , 0.        , 0.        , 0.        , 0.        ,\n",
              "        0.        , 0.        , 0.        , 0.        , 0.        ,\n",
              "        0.        , 0.        , 0.        , 0.        , 0.        ,\n",
              "        0.31764706, 0.94117647, 0.99215686, 0.99215686, 0.46666667,\n",
              "        0.09803922, 0.        , 0.        , 0.        , 0.        ,\n",
              "        0.        , 0.        , 0.        , 0.        , 0.        ,\n",
              "        0.        , 0.        , 0.        , 0.        , 0.        ,\n",
              "        0.        , 0.        , 0.        , 0.        , 0.        ,\n",
              "        0.        , 0.        , 0.        , 0.        , 0.17647059,\n",
              "        0.72941176, 0.99215686, 0.99215686, 0.58823529, 0.10588235,\n",
              "        0.        , 0.        , 0.        , 0.        , 0.        ,\n",
              "        0.        , 0.        , 0.        , 0.        , 0.        ,\n",
              "        0.        , 0.        , 0.        , 0.        , 0.        ,\n",
              "        0.        , 0.        , 0.        , 0.        , 0.        ,\n",
              "        0.        , 0.        , 0.        , 0.0627451 , 0.36470588,\n",
              "        0.98823529, 0.99215686, 0.73333333, 0.        , 0.        ,\n",
              "        0.        , 0.        , 0.        , 0.        , 0.        ,\n",
              "        0.        , 0.        , 0.        , 0.        , 0.        ,\n",
              "        0.        , 0.        , 0.        , 0.        , 0.        ,\n",
              "        0.        , 0.        , 0.        , 0.        , 0.        ,\n",
              "        0.        , 0.        , 0.        , 0.97647059, 0.99215686,\n",
              "        0.97647059, 0.25098039, 0.        , 0.        , 0.        ,\n",
              "        0.        , 0.        , 0.        , 0.        , 0.        ,\n",
              "        0.        , 0.        , 0.        , 0.        , 0.        ,\n",
              "        0.        , 0.        , 0.        , 0.        , 0.        ,\n",
              "        0.        , 0.        , 0.        , 0.18039216, 0.50980392,\n",
              "        0.71764706, 0.99215686, 0.99215686, 0.81176471, 0.00784314,\n",
              "        0.        , 0.        , 0.        , 0.        , 0.        ,\n",
              "        0.        , 0.        , 0.        , 0.        , 0.        ,\n",
              "        0.        , 0.        , 0.        , 0.        , 0.        ,\n",
              "        0.        , 0.        , 0.        , 0.        , 0.15294118,\n",
              "        0.58039216, 0.89803922, 0.99215686, 0.99215686, 0.99215686,\n",
              "        0.98039216, 0.71372549, 0.        , 0.        , 0.        ,\n",
              "        0.        , 0.        , 0.        , 0.        , 0.        ,\n",
              "        0.        , 0.        , 0.        , 0.        , 0.        ,\n",
              "        0.        , 0.        , 0.        , 0.        , 0.        ,\n",
              "        0.09411765, 0.44705882, 0.86666667, 0.99215686, 0.99215686,\n",
              "        0.99215686, 0.99215686, 0.78823529, 0.30588235, 0.        ,\n",
              "        0.        , 0.        , 0.        , 0.        , 0.        ,\n",
              "        0.        , 0.        , 0.        , 0.        , 0.        ,\n",
              "        0.        , 0.        , 0.        , 0.        , 0.        ,\n",
              "        0.        , 0.09019608, 0.25882353, 0.83529412, 0.99215686,\n",
              "        0.99215686, 0.99215686, 0.99215686, 0.77647059, 0.31764706,\n",
              "        0.00784314, 0.        , 0.        , 0.        , 0.        ,\n",
              "        0.        , 0.        , 0.        , 0.        , 0.        ,\n",
              "        0.        , 0.        , 0.        , 0.        , 0.        ,\n",
              "        0.        , 0.        , 0.07058824, 0.67058824, 0.85882353,\n",
              "        0.99215686, 0.99215686, 0.99215686, 0.99215686, 0.76470588,\n",
              "        0.31372549, 0.03529412, 0.        , 0.        , 0.        ,\n",
              "        0.        , 0.        , 0.        , 0.        , 0.        ,\n",
              "        0.        , 0.        , 0.        , 0.        , 0.        ,\n",
              "        0.        , 0.        , 0.        , 0.21568627, 0.6745098 ,\n",
              "        0.88627451, 0.99215686, 0.99215686, 0.99215686, 0.99215686,\n",
              "        0.95686275, 0.52156863, 0.04313725, 0.        , 0.        ,\n",
              "        0.        , 0.        , 0.        , 0.        , 0.        ,\n",
              "        0.        , 0.        , 0.        , 0.        , 0.        ,\n",
              "        0.        , 0.        , 0.        , 0.        , 0.        ,\n",
              "        0.        , 0.53333333, 0.99215686, 0.99215686, 0.99215686,\n",
              "        0.83137255, 0.52941176, 0.51764706, 0.0627451 , 0.        ,\n",
              "        0.        , 0.        , 0.        , 0.        , 0.        ,\n",
              "        0.        , 0.        , 0.        , 0.        , 0.        ,\n",
              "        0.        , 0.        , 0.        , 0.        , 0.        ,\n",
              "        0.        , 0.        , 0.        , 0.        , 0.        ,\n",
              "        0.        , 0.        , 0.        , 0.        , 0.        ,\n",
              "        0.        , 0.        , 0.        , 0.        , 0.        ,\n",
              "        0.        , 0.        , 0.        , 0.        , 0.        ,\n",
              "        0.        , 0.        , 0.        , 0.        , 0.        ,\n",
              "        0.        , 0.        , 0.        , 0.        , 0.        ,\n",
              "        0.        , 0.        , 0.        , 0.        , 0.        ,\n",
              "        0.        , 0.        , 0.        , 0.        , 0.        ,\n",
              "        0.        , 0.        , 0.        , 0.        , 0.        ,\n",
              "        0.        , 0.        , 0.        , 0.        , 0.        ,\n",
              "        0.        , 0.        , 0.        , 0.        , 0.        ,\n",
              "        0.        , 0.        , 0.        , 0.        , 0.        ,\n",
              "        0.        , 0.        , 0.        , 0.        , 0.        ,\n",
              "        0.        , 0.        , 0.        , 0.        , 0.        ,\n",
              "        0.        , 0.        , 0.        , 0.        , 0.        ,\n",
              "        0.        , 0.        , 0.        , 0.        , 0.        ,\n",
              "        0.        , 0.        , 0.        , 0.        ]])"
            ]
          },
          "metadata": {
            "tags": []
          },
          "execution_count": 45
        }
      ]
    },
    {
      "metadata": {
        "id": "My-OrRMXTINE",
        "colab_type": "code",
        "colab": {
          "base_uri": "https://localhost:8080/",
          "height": 34
        },
        "outputId": "bd3e3617-36bf-4521-e422-a6111c205764"
      },
      "cell_type": "code",
      "source": [
        "y_train[:1]"
      ],
      "execution_count": 46,
      "outputs": [
        {
          "output_type": "execute_result",
          "data": {
            "text/plain": [
              "array([[0., 0., 0., 0., 0., 1., 0., 0., 0., 0.]], dtype=float32)"
            ]
          },
          "metadata": {
            "tags": []
          },
          "execution_count": 46
        }
      ]
    },
    {
      "metadata": {
        "id": "s-2aqahbTOEE",
        "colab_type": "code",
        "colab": {
          "base_uri": "https://localhost:8080/",
          "height": 50
        },
        "outputId": "402e0b5b-8878-4cf4-da9f-da7a0f186202"
      },
      "cell_type": "code",
      "source": [
        "print(X_train.shape)\n",
        "print(y_train.shape)"
      ],
      "execution_count": 47,
      "outputs": [
        {
          "output_type": "stream",
          "text": [
            "(60000, 784)\n",
            "(60000, 10)\n"
          ],
          "name": "stdout"
        }
      ]
    },
    {
      "metadata": {
        "id": "7N3FNyuYURbn",
        "colab_type": "code",
        "colab": {}
      },
      "cell_type": "code",
      "source": [
        "\"\"\"\n",
        "Classifier and Turning hyperparameters\n",
        "# Keras automatically use GPU to model\n",
        "\n",
        "\"\"\"\n",
        "\n",
        "import matplotlib.pyplot as plt\n",
        "\n",
        "# training \"batch size\"\n",
        "def train(batch_size):\n",
        "    model = Sequential()\n",
        "    model.add(Dense(256, input_dim = 784, activation = 'relu', kernel_initializer = 'normal'))\n",
        "    model.add(Dense(10, activation = 'softmax', kernel_initializer = 'normal'))\n",
        "    # Classification: cross entropy; Regression: MSE\n",
        "    model.compile(optimizer = 'adam', loss = 'categorical_crossentropy', metrics = ['accuracy'])\n",
        "    history = model.fit(X_train, y_train, epochs = 5, batch_size = batch_size, \n",
        "                        validation_split = 0.2, verbose = 0)\n",
        "    #Verbose 0 : no training process; 1: very detailed process\n",
        "    \n",
        "    return history\n",
        "\n",
        "def plot_train_history(history, train_metrics, val_metrics, batch_size):\n",
        "    plt.plot(history.history.get(train_metrics), '-o')\n",
        "    plt.plot(history.history.get(  val_metrics), '-o')\n",
        "    plt.ylabel(train_metrics)\n",
        "    plt.xlabel('Epochs')\n",
        "    plt.legend(['train', 'validation'])\n",
        "    plt.title('batch_size=' + str(batch_size))\n",
        " "
      ],
      "execution_count": 0,
      "outputs": []
    },
    {
      "metadata": {
        "id": "sbQF9R8if-wo",
        "colab_type": "code",
        "colab": {
          "base_uri": "https://localhost:8080/",
          "height": 852
        },
        "outputId": "5e1c447c-e1b5-4210-bb58-67fd257f8792"
      },
      "cell_type": "code",
      "source": [
        "%matplotlib inline\n",
        "#batch_size_list = np.arange(100, 3000, 1000)\n",
        "batch_size_list = np.arange(100, 3000, 1000)\n",
        "\n",
        "#batch_size_list = [1000]\n",
        "\n",
        "for batch_size in batch_size_list:\n",
        "    history = train(batch_size)\n",
        "    \n",
        "    plt.figure( figsize = (12, 4) )\n",
        "    plt.subplot(1, 2, 1)\n",
        "    plot_train_history(history, 'loss', 'val_loss', batch_size)\n",
        "    \n",
        "    plt.subplot(1, 2, 2)\n",
        "    plot_train_history(history, 'acc' , 'val_acc' , batch_size)\n",
        "\n",
        "    # Small batch size: not easy to converge; large batch size: slow running "
      ],
      "execution_count": 58,
      "outputs": [
        {
          "output_type": "display_data",
          "data": {
            "image/png": "[encoded data removed]",
            "text/plain": [
              "<Figure size 864x288 with 2 Axes>"
            ]
          },
          "metadata": {
            "tags": []
          }
        },
        {
          "output_type": "display_data",
          "data": {
            "image/png": "[encoded data removed]",
            "text/plain": [
              "<Figure size 864x288 with 2 Axes>"
            ]
          },
          "metadata": {
            "tags": []
          }
        },
        {
          "output_type": "display_data",
          "data": {
            "image/png": "[encoded data removed]",
            "text/plain": [
              "<Figure size 864x288 with 2 Axes>"
            ]
          },
          "metadata": {
            "tags": []
          }
        }
      ]
    },
    {
      "metadata": {
        "id": "zONhkHr3BC_P",
        "colab_type": "code",
        "colab": {}
      },
      "cell_type": "code",
      "source": [
        "#Now, you can tune other hyperparameters in the same way.\n"
      ],
      "execution_count": 0,
      "outputs": []
    },
    {
      "metadata": {
        "id": "Njiu5B_3gn8Y",
        "colab_type": "code",
        "colab": {
          "base_uri": "https://localhost:8080/",
          "height": 101
        },
        "outputId": "6e8d3ed0-b78e-421a-d658-4b776c5d84ba"
      },
      "cell_type": "code",
      "source": [
        "\n",
        "# Keras + sklearn Kfold\n",
        "\n",
        "#Scikit-Learn website code\n",
        "\n",
        "print(__doc__)\n",
        "\n",
        "import numpy as np\n",
        "import matplotlib.pyplot as plt\n",
        "from sklearn.naive_bayes import GaussianNB\n",
        "from sklearn.svm import SVC\n",
        "from sklearn.datasets import load_digits\n",
        "from sklearn.model_selection import learning_curve\n",
        "from sklearn.model_selection import ShuffleSplit\n",
        "\n",
        "\n",
        "def plot_learning_curve(estimator, title, X, y, ylim=None, cv=None,\n",
        "                        n_jobs=1, train_sizes=np.linspace(.1, 1.0, 5)):\n",
        "    plt.figure(figsize=(10,6))  #調整作圖大小\n",
        "    plt.title(title)\n",
        "    if ylim is not None:\n",
        "        plt.ylim(*ylim)\n",
        "    plt.xlabel(\"Training examples\")\n",
        "    plt.ylabel(\"acc\")\n",
        "    train_sizes, train_scores, test_scores = learning_curve(\n",
        "        estimator, X, y, cv=cv, n_jobs=n_jobs, train_sizes=train_sizes)\n",
        "    train_scores_mean = np.mean(train_scores, axis=1)\n",
        "    train_scores_std = np.std(train_scores, axis=1)\n",
        "    test_scores_mean = np.mean(test_scores, axis=1)\n",
        "    test_scores_std = np.std(test_scores, axis=1)\n",
        "    plt.grid()\n",
        "\n",
        "    plt.fill_between(train_sizes, train_scores_mean - train_scores_std,\n",
        "                     train_scores_mean + train_scores_std, alpha=0.1,\n",
        "                     color=\"r\")\n",
        "    plt.fill_between(train_sizes, test_scores_mean - test_scores_std,\n",
        "                     test_scores_mean + test_scores_std, alpha=0.1, color=\"g\")\n",
        "    plt.plot(train_sizes, train_scores_mean, 'o-', color=\"r\",\n",
        "             label=\"Training score\")\n",
        "    plt.plot(train_sizes, test_scores_mean, 'o-', color=\"g\",\n",
        "             label=\"Cross-validation score\")\n",
        "\n",
        "    plt.legend(loc=\"best\")\n",
        "    return plt\n"
      ],
      "execution_count": 59,
      "outputs": [
        {
          "output_type": "stream",
          "text": [
            "\n",
            "Classifier and Turning hyperparameters\n",
            "# Keras automatically use GPU to model\n",
            "\n",
            "\n"
          ],
          "name": "stdout"
        }
      ]
    },
    {
      "metadata": {
        "id": "EgtWT25v4NAU",
        "colab_type": "code",
        "colab": {}
      },
      "cell_type": "code",
      "source": [
        "\n",
        "\n",
        "def MLP_model():\n",
        "\tmodel = Sequential()\n",
        "\tmodel.add(Dense(256, input_dim = 784, activation = 'relu', kernel_initializer = 'normal'))\n",
        "\tmodel.add(Dense(10, activation = 'softmax', kernel_initializer = 'normal'))\n",
        "\tmodel.compile(optimizer = 'adam', loss = 'categorical_crossentropy', metrics = ['accuracy'])\n",
        "\treturn model\n"
      ],
      "execution_count": 0,
      "outputs": []
    },
    {
      "metadata": {
        "id": "HqfhglU54PQg",
        "colab_type": "code",
        "colab": {
          "base_uri": "https://localhost:8080/",
          "height": 3781
        },
        "outputId": "5d260cb6-1d36-4c52-bc2e-b49ddb89f06d"
      },
      "cell_type": "code",
      "source": [
        "from keras.wrappers.scikit_learn import KerasClassifier\n",
        "from sklearn.model_selection import KFold\n",
        "\n",
        "cv = KFold(n_splits = 10, random_state = None, shuffle = True)\n",
        "estimator = KerasClassifier(build_fn = MLP_model, nb_epoch = 3, batch_size = 200)\n",
        "\n",
        "plot_learning_curve(estimator, \"MLP with Keras\", X_train, y_train, cv = cv, train_sizes = np.linspace(0.2, 1.0, 5))\n",
        "\n"
      ],
      "execution_count": 67,
      "outputs": [
        {
          "output_type": "stream",
          "text": [
            "Epoch 1/1\n",
            "10800/10800 [==============================] - 1s 85us/step - loss: 0.9254 - acc: 0.7747\n",
            "6000/6000 [==============================] - 0s 41us/step\n",
            "10800/10800 [==============================] - 0s 14us/step\n",
            "Epoch 1/1\n",
            "21600/21600 [==============================] - 1s 61us/step - loss: 0.6482 - acc: 0.8328\n",
            "6000/6000 [==============================] - 0s 43us/step\n",
            "21600/21600 [==============================] - 0s 16us/step\n",
            "Epoch 1/1\n",
            "32400/32400 [==============================] - 2s 59us/step - loss: 0.5245 - acc: 0.8607\n",
            "6000/6000 [==============================] - 0s 46us/step\n",
            "32400/32400 [==============================] - 1s 16us/step\n",
            "Epoch 1/1\n",
            "43200/43200 [==============================] - 2s 57us/step - loss: 0.4627 - acc: 0.8783\n",
            "6000/6000 [==============================] - 0s 51us/step\n",
            "43200/43200 [==============================] - 1s 16us/step\n",
            "Epoch 1/1\n",
            "54000/54000 [==============================] - 3s 55us/step - loss: 0.4179 - acc: 0.8880\n",
            "6000/6000 [==============================] - 0s 52us/step\n",
            "54000/54000 [==============================] - 1s 16us/step\n",
            "Epoch 1/1\n",
            "10800/10800 [==============================] - 1s 94us/step - loss: 0.9197 - acc: 0.7836\n",
            "6000/6000 [==============================] - 0s 53us/step\n",
            "10800/10800 [==============================] - 0s 17us/step\n",
            "Epoch 1/1\n",
            "21600/21600 [==============================] - 1s 68us/step - loss: 0.6409 - acc: 0.8419\n",
            "6000/6000 [==============================] - 0s 56us/step\n",
            "21600/21600 [==============================] - 0s 16us/step\n",
            "Epoch 1/1\n",
            "32400/32400 [==============================] - 2s 63us/step - loss: 0.5299 - acc: 0.8640\n",
            "6000/6000 [==============================] - 0s 58us/step\n",
            "32400/32400 [==============================] - 1s 16us/step\n",
            "Epoch 1/1\n",
            "43200/43200 [==============================] - 3s 59us/step - loss: 0.4595 - acc: 0.8785\n",
            "6000/6000 [==============================] - 0s 61us/step\n",
            "43200/43200 [==============================] - 1s 16us/step\n",
            "Epoch 1/1\n",
            "54000/54000 [==============================] - 3s 53us/step - loss: 0.4158 - acc: 0.8877\n",
            "6000/6000 [==============================] - 0s 64us/step\n",
            "54000/54000 [==============================] - 1s 16us/step\n",
            "Epoch 1/1\n",
            "10800/10800 [==============================] - 1s 114us/step - loss: 0.9146 - acc: 0.7775\n",
            "6000/6000 [==============================] - 0s 67us/step\n",
            "10800/10800 [==============================] - 0s 17us/step\n",
            "Epoch 1/1\n",
            "21600/21600 [==============================] - 2s 78us/step - loss: 0.6381 - acc: 0.8374\n",
            "6000/6000 [==============================] - 0s 68us/step\n",
            "21600/21600 [==============================] - 0s 16us/step\n",
            "Epoch 1/1\n",
            "32400/32400 [==============================] - 2s 67us/step - loss: 0.5259 - acc: 0.8590\n",
            "6000/6000 [==============================] - 0s 75us/step\n",
            "32400/32400 [==============================] - 1s 16us/step\n",
            "Epoch 1/1\n",
            "43200/43200 [==============================] - 3s 62us/step - loss: 0.4581 - acc: 0.8778\n",
            "6000/6000 [==============================] - 0s 75us/step\n",
            "43200/43200 [==============================] - 1s 17us/step\n",
            "Epoch 1/1\n",
            "54000/54000 [==============================] - 3s 58us/step - loss: 0.4169 - acc: 0.8893\n",
            "6000/6000 [==============================] - 0s 80us/step\n",
            "54000/54000 [==============================] - 1s 17us/step\n",
            "Epoch 1/1\n",
            "10800/10800 [==============================] - 1s 133us/step - loss: 0.9086 - acc: 0.7783\n",
            "6000/6000 [==============================] - 0s 80us/step\n",
            "10800/10800 [==============================] - 0s 17us/step\n",
            "Epoch 1/1\n",
            "21600/21600 [==============================] - 2s 86us/step - loss: 0.6409 - acc: 0.8304\n",
            "6000/6000 [==============================] - 1s 85us/step\n",
            "21600/21600 [==============================] - 0s 17us/step\n",
            "Epoch 1/1\n",
            "32400/32400 [==============================] - 2s 72us/step - loss: 0.5274 - acc: 0.8643\n",
            "6000/6000 [==============================] - 1s 88us/step\n",
            "32400/32400 [==============================] - 1s 16us/step\n",
            "Epoch 1/1\n",
            "43200/43200 [==============================] - 3s 79us/step - loss: 0.4580 - acc: 0.8769\n",
            "6000/6000 [==============================] - 1s 96us/step\n",
            "43200/43200 [==============================] - 1s 17us/step\n",
            "Epoch 1/1\n",
            "54000/54000 [==============================] - 3s 63us/step - loss: 0.4210 - acc: 0.8866\n",
            "6000/6000 [==============================] - 1s 97us/step\n",
            "54000/54000 [==============================] - 1s 17us/step\n",
            "Epoch 1/1\n",
            "10800/10800 [==============================] - 2s 156us/step - loss: 0.9159 - acc: 0.7842\n",
            "6000/6000 [==============================] - 1s 102us/step\n",
            "10800/10800 [==============================] - 0s 17us/step\n",
            "Epoch 1/1\n",
            "21600/21600 [==============================] - 2s 98us/step - loss: 0.6575 - acc: 0.8321\n",
            "6000/6000 [==============================] - 1s 102us/step\n",
            "21600/21600 [==============================] - 0s 17us/step\n",
            "Epoch 1/1\n",
            "32400/32400 [==============================] - 3s 81us/step - loss: 0.5242 - acc: 0.8636\n",
            "6000/6000 [==============================] - 1s 108us/step\n",
            "32400/32400 [==============================] - 1s 17us/step\n",
            "Epoch 1/1\n",
            "43200/43200 [==============================] - 3s 71us/step - loss: 0.4693 - acc: 0.8742\n",
            "6000/6000 [==============================] - 1s 110us/step\n",
            "43200/43200 [==============================] - 1s 17us/step\n",
            "Epoch 1/1\n",
            "54000/54000 [==============================] - 4s 76us/step - loss: 0.4122 - acc: 0.8886\n",
            "6000/6000 [==============================] - 1s 116us/step\n",
            "54000/54000 [==============================] - 1s 17us/step\n",
            "Epoch 1/1\n",
            "10800/10800 [==============================] - 2s 185us/step - loss: 0.9084 - acc: 0.7784\n",
            "6000/6000 [==============================] - 1s 122us/step\n",
            "10800/10800 [==============================] - 0s 20us/step\n",
            "Epoch 1/1\n",
            "21600/21600 [==============================] - 2s 116us/step - loss: 0.6470 - acc: 0.8367\n",
            "6000/6000 [==============================] - 1s 123us/step\n",
            "21600/21600 [==============================] - 0s 18us/step\n",
            "Epoch 1/1\n",
            "32400/32400 [==============================] - 3s 94us/step - loss: 0.5288 - acc: 0.8620\n",
            "6000/6000 [==============================] - 1s 127us/step\n",
            "32400/32400 [==============================] - 1s 17us/step\n",
            "Epoch 1/1\n",
            "43200/43200 [==============================] - 3s 78us/step - loss: 0.4647 - acc: 0.8757\n",
            "6000/6000 [==============================] - 1s 131us/step\n",
            "43200/43200 [==============================] - 1s 19us/step\n",
            "Epoch 1/1\n",
            "54000/54000 [==============================] - 4s 77us/step - loss: 0.4110 - acc: 0.8907\n",
            "6000/6000 [==============================] - 1s 136us/step\n",
            "54000/54000 [==============================] - 1s 19us/step\n",
            "Epoch 1/1\n",
            "10800/10800 [==============================] - 2s 206us/step - loss: 0.9178 - acc: 0.7720\n",
            "6000/6000 [==============================] - 1s 138us/step\n",
            "10800/10800 [==============================] - 0s 18us/step\n",
            "Epoch 1/1\n",
            "21600/21600 [==============================] - 3s 124us/step - loss: 0.6577 - acc: 0.8362\n",
            "6000/6000 [==============================] - 1s 144us/step\n",
            "21600/21600 [==============================] - 0s 18us/step\n",
            "Epoch 1/1\n",
            "32400/32400 [==============================] - 3s 98us/step - loss: 0.5207 - acc: 0.8640\n",
            "6000/6000 [==============================] - 1s 148us/step\n",
            "32400/32400 [==============================] - 1s 18us/step\n",
            "Epoch 1/1\n",
            "43200/43200 [==============================] - 4s 85us/step - loss: 0.4595 - acc: 0.8792\n",
            "6000/6000 [==============================] - 1s 148us/step\n",
            "43200/43200 [==============================] - 1s 18us/step\n",
            "Epoch 1/1\n",
            "54000/54000 [==============================] - 4s 77us/step - loss: 0.4180 - acc: 0.8901\n",
            "6000/6000 [==============================] - 1s 151us/step\n",
            "54000/54000 [==============================] - 1s 18us/step\n",
            "Epoch 1/1\n",
            "10800/10800 [==============================] - 2s 225us/step - loss: 0.9007 - acc: 0.7837\n",
            "6000/6000 [==============================] - 1s 154us/step\n",
            "10800/10800 [==============================] - 0s 18us/step\n",
            "Epoch 1/1\n",
            "21600/21600 [==============================] - 3s 135us/step - loss: 0.6448 - acc: 0.8337\n",
            "6000/6000 [==============================] - 1s 158us/step\n",
            "21600/21600 [==============================] - 0s 18us/step\n",
            "Epoch 1/1\n",
            "32400/32400 [==============================] - 4s 111us/step - loss: 0.5320 - acc: 0.8599\n",
            "6000/6000 [==============================] - 1s 163us/step\n",
            "32400/32400 [==============================] - 1s 18us/step\n",
            "Epoch 1/1\n",
            "43200/43200 [==============================] - 4s 91us/step - loss: 0.4687 - acc: 0.8744\n",
            "6000/6000 [==============================] - 1s 166us/step\n",
            "43200/43200 [==============================] - 1s 18us/step\n",
            "Epoch 1/1\n",
            "54000/54000 [==============================] - 4s 80us/step - loss: 0.4140 - acc: 0.8884\n",
            "6000/6000 [==============================] - 1s 170us/step\n",
            "54000/54000 [==============================] - 1s 18us/step\n",
            "Epoch 1/1\n",
            "10800/10800 [==============================] - 3s 255us/step - loss: 0.9095 - acc: 0.7783\n",
            "6000/6000 [==============================] - 1s 174us/step\n",
            "10800/10800 [==============================] - 0s 19us/step\n",
            "Epoch 1/1\n",
            "21600/21600 [==============================] - 3s 150us/step - loss: 0.6399 - acc: 0.8332\n",
            "6000/6000 [==============================] - 1s 178us/step\n",
            "21600/21600 [==============================] - 0s 18us/step\n",
            "Epoch 1/1\n",
            "32400/32400 [==============================] - 4s 114us/step - loss: 0.5262 - acc: 0.8634\n",
            "6000/6000 [==============================] - 1s 181us/step\n",
            "32400/32400 [==============================] - 1s 18us/step\n",
            "Epoch 1/1\n",
            "43200/43200 [==============================] - 4s 98us/step - loss: 0.4613 - acc: 0.8770\n",
            "6000/6000 [==============================] - 1s 184us/step\n",
            "43200/43200 [==============================] - 1s 18us/step\n",
            "Epoch 1/1\n",
            "54000/54000 [==============================] - 5s 86us/step - loss: 0.4132 - acc: 0.8892\n",
            "6000/6000 [==============================] - 1s 190us/step\n",
            "54000/54000 [==============================] - 1s 19us/step\n",
            "Epoch 1/1\n",
            "10800/10800 [==============================] - 3s 273us/step - loss: 0.9008 - acc: 0.7767\n",
            "6000/6000 [==============================] - 1s 192us/step\n",
            "10800/10800 [==============================] - 0s 19us/step\n",
            "Epoch 1/1\n",
            "21600/21600 [==============================] - 3s 160us/step - loss: 0.6366 - acc: 0.8369\n",
            "6000/6000 [==============================] - 1s 197us/step\n",
            "21600/21600 [==============================] - 0s 18us/step\n",
            "Epoch 1/1\n",
            "32400/32400 [==============================] - 4s 139us/step - loss: 0.5396 - acc: 0.8574\n",
            "6000/6000 [==============================] - 1s 208us/step\n",
            "32400/32400 [==============================] - 1s 19us/step\n",
            "Epoch 1/1\n",
            "43200/43200 [==============================] - 5s 105us/step - loss: 0.4644 - acc: 0.8786\n",
            "6000/6000 [==============================] - 1s 208us/step\n",
            "43200/43200 [==============================] - 1s 19us/step\n",
            "Epoch 1/1\n",
            "54000/54000 [==============================] - 5s 92us/step - loss: 0.4100 - acc: 0.8891\n",
            "6000/6000 [==============================] - 1s 211us/step\n",
            "54000/54000 [==============================] - 1s 19us/step\n"
          ],
          "name": "stdout"
        },
        {
          "output_type": "execute_result",
          "data": {
            "text/plain": [
              "<module 'matplotlib.pyplot' from '/usr/local/lib/python3.6/dist-packages/matplotlib/pyplot.py'>"
            ]
          },
          "metadata": {
            "tags": []
          },
          "execution_count": 67
        },
        {
          "output_type": "display_data",
          "data": {
            "image/png": "[encoded data removed]",
            "text/plain": [
              "<Figure size 720x432 with 1 Axes>"
            ]
          },
          "metadata": {
            "tags": []
          }
        }
      ]
    },
    {
      "metadata": {
        "id": "QZ-XRcwg8pj4",
        "colab_type": "code",
        "colab": {}
      },
      "cell_type": "code",
      "source": [
        ""
      ],
      "execution_count": 0,
      "outputs": []
    }
  ]
}